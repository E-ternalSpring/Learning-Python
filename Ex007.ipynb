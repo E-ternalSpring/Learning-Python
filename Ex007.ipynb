{
  "nbformat": 4,
  "nbformat_minor": 0,
  "metadata": {
    "colab": {
      "name": "Ex007.ipynb",
      "provenance": [],
      "collapsed_sections": [],
      "authorship_tag": "ABX9TyMv893HzEfWMip8kmCm9yJh",
      "include_colab_link": true
    },
    "kernelspec": {
      "name": "python3",
      "display_name": "Python 3"
    },
    "language_info": {
      "name": "python"
    }
  },
  "cells": [
    {
      "cell_type": "markdown",
      "metadata": {
        "id": "view-in-github",
        "colab_type": "text"
      },
      "source": [
        "<a href=\"https://colab.research.google.com/github/E-ternalSpring/Learning-Python/blob/main/Ex007.ipynb\" target=\"_parent\"><img src=\"https://colab.research.google.com/assets/colab-badge.svg\" alt=\"Open In Colab\"/></a>"
      ]
    },
    {
      "cell_type": "code",
      "execution_count": 1,
      "metadata": {
        "colab": {
          "base_uri": "https://localhost:8080/"
        },
        "id": "s38i27SUlaLr",
        "outputId": "57160f30-0765-4879-d2ba-46262f164094"
      },
      "outputs": [
        {
          "output_type": "stream",
          "name": "stdout",
          "text": [
            "Tell me what was your first grade? 5\n",
            "Eh... Okay, calm down, there is still hope... \u001b[0;4mI guess\u001b[0m. What was your second grade? 7\n",
            "Yeah... The passing grade is \u001b[32m7\u001b[0m. Your average is \u001b[30;107m6.00\u001b[0m.\n",
            "So, are you going to have a vacation?\n"
          ]
        }
      ],
      "source": [
        "#Develop a program that reads a student's two grades, calculates and displays their average. (I also used ANSI colors to make it prettier!)\n",
        "\n",
        "n1 = float(input('Tell me what was your first grade? '))\n",
        "n2 = float(input('Eh... Okay, calm down, there is still hope... \\033[0;4mI guess\\033[0m. What was your second grade? '))\n",
        "print(f'Yeah... The passing grade is \\033[32m7\\033[0m. Your average is \\033[30;107m{(n1 + n2) / 2:.2f}\\033[0m.')\n",
        "print('So, are you going to have a vacation?')\n"
      ]
    }
  ]
}