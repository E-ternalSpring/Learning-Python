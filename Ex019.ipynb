{
  "nbformat": 4,
  "nbformat_minor": 0,
  "metadata": {
    "colab": {
      "name": "Ex019.ipynb",
      "provenance": [],
      "collapsed_sections": [],
      "authorship_tag": "ABX9TyOdV0G0lPi3c9K3mwkF9oVq",
      "include_colab_link": true
    },
    "kernelspec": {
      "name": "python3",
      "display_name": "Python 3"
    },
    "language_info": {
      "name": "python"
    }
  },
  "cells": [
    {
      "cell_type": "markdown",
      "metadata": {
        "id": "view-in-github",
        "colab_type": "text"
      },
      "source": [
        "<a href=\"https://colab.research.google.com/github/E-ternalSpring/Learning-Python/blob/main/Ex019.ipynb\" target=\"_parent\"><img src=\"https://colab.research.google.com/assets/colab-badge.svg\" alt=\"Open In Colab\"/></a>"
      ]
    },
    {
      "cell_type": "code",
      "execution_count": 1,
      "metadata": {
        "colab": {
          "base_uri": "https://localhost:8080/"
        },
        "id": "b-cYjCS4sIau",
        "outputId": "74d464aa-53fc-4284-dc9e-2a4f9bdc8f88"
      },
      "outputs": [
        {
          "output_type": "stream",
          "name": "stdout",
          "text": [
            "First name: André\n",
            "Second name: João\n",
            "Third name: Luís\n",
            "Fourth name: Caio\n",
            "The chosen one is: \u001b[4;36mAndré\u001b[0m\n"
          ]
        }
      ],
      "source": [
        "#Write a program that reads 4 names and randomly chooses one of them.\n",
        "#(ANSI again to make it prettier.)\n",
        "\n",
        "from random import choice\n",
        "a1 = input('First name: ')\n",
        "a2 = input('Second name: ')\n",
        "a3 = input('Third name: ')\n",
        "a4 = input('Fourth name: ')\n",
        "print(f'The chosen one is: \\033[4;36m{choice([a1, a2, a3, a4])}\\033[0m')\n"
      ]
    }
  ]
}