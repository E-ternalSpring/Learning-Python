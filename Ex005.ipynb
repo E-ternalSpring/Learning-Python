{
  "nbformat": 4,
  "nbformat_minor": 0,
  "metadata": {
    "colab": {
      "name": "Ex005.ipynb",
      "provenance": [],
      "collapsed_sections": [],
      "authorship_tag": "ABX9TyMQmvUvUK+xuwqxLRr6AfHW",
      "include_colab_link": true
    },
    "kernelspec": {
      "name": "python3",
      "display_name": "Python 3"
    },
    "language_info": {
      "name": "python"
    }
  },
  "cells": [
    {
      "cell_type": "markdown",
      "metadata": {
        "id": "view-in-github",
        "colab_type": "text"
      },
      "source": [
        "<a href=\"https://colab.research.google.com/github/E-ternalSpring/Learning-Python/blob/main/Ex005.ipynb\" target=\"_parent\"><img src=\"https://colab.research.google.com/assets/colab-badge.svg\" alt=\"Open In Colab\"/></a>"
      ]
    },
    {
      "cell_type": "code",
      "execution_count": 1,
      "metadata": {
        "colab": {
          "base_uri": "https://localhost:8080/"
        },
        "id": "sY1LkExR_VGa",
        "outputId": "bacab30a-2693-46e8-ccd7-c6f53d86a300"
      },
      "outputs": [
        {
          "output_type": "stream",
          "name": "stdout",
          "text": [
            "Come on, give me any number! 45\n",
            "The predecessor of \u001b[97m45\u001b[0m is \u001b[31m44\u001b[0m, and the successor is \u001b[32m46\u001b[0m. Am I right?\n"
          ]
        }
      ],
      "source": [
        "#Create a program that reads an integer and displays its successor and predecessor on the screen. (I also used ANSI colors to make it prettier!)\n",
        "\n",
        "n = int(input('Come on, give me any number! '))\n",
        "print(f'The predecessor of \\033[97m{n}\\033[0m is \\033[31m{n - 1}\\033[0m, and the successor is \\033[32m{n + 1}\\033[0m. Am I right?')\n"
      ]
    }
  ]
}