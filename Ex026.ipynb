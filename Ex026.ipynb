{
  "nbformat": 4,
  "nbformat_minor": 0,
  "metadata": {
    "colab": {
      "name": "Ex026.ipynb",
      "provenance": [],
      "collapsed_sections": [],
      "authorship_tag": "ABX9TyPhG5BI9BEbXt/pSczNrdlg",
      "include_colab_link": true
    },
    "kernelspec": {
      "name": "python3",
      "display_name": "Python 3"
    },
    "language_info": {
      "name": "python"
    }
  },
  "cells": [
    {
      "cell_type": "markdown",
      "metadata": {
        "id": "view-in-github",
        "colab_type": "text"
      },
      "source": [
        "<a href=\"https://colab.research.google.com/github/E-ternalSpring/Learning-Python/blob/main/Ex026.ipynb\" target=\"_parent\"><img src=\"https://colab.research.google.com/assets/colab-badge.svg\" alt=\"Open In Colab\"/></a>"
      ]
    },
    {
      "cell_type": "code",
      "execution_count": 3,
      "metadata": {
        "colab": {
          "base_uri": "https://localhost:8080/"
        },
        "id": "KwwJptlTgmiM",
        "outputId": "9a99e42b-3a5f-40c7-d96c-da13d6cc6d3f"
      },
      "outputs": [
        {
          "output_type": "stream",
          "name": "stdout",
          "text": [
            "Write a sentence: Almost got hamburguer\n",
            "The letter \u001b[4;34m\"A\"\u001b[0m appears \u001b[4;34m2\u001b[0m times in the sentence...\n",
            "The \u001b[4;34mfirst letter \"A\"\u001b[0m appears at position \u001b[4;34m1\u001b[0m...\n",
            "The \u001b[4;34mlast letter \"A\"\u001b[0m appears at position \u001b[4;34m13\u001b[0m...\n"
          ]
        }
      ],
      "source": [
        "#Write a program that reads a sentence on the keyboard and shows:\n",
        "#How many times does the letter \"A\" appear;\n",
        "#In what position does it first and last appear in.\n",
        "#(ANSI colors because it's cute.)\n",
        "\n",
        "s = (str(input('Write a sentence: '))).lower().strip()\n",
        "s = s.replace('á', 'a')\n",
        "s = s.replace('à', 'a')\n",
        "s = s.replace('ã', 'a')\n",
        "s = s.replace('â', 'a')\n",
        "s = s.replace('ä', 'a')\n",
        "c = s.count('a')\n",
        "p = s.find('a') + 1\n",
        "u = s.rfind('a') + 1\n",
        "print(f'The letter \\033[4;34m\"A\"\\033[0m appears \\033[4;34m{c}\\033[0m times in the sentence...')\n",
        "print(f'The \\033[4;34mfirst letter \"A\"\\033[0m appears at position \\033[4;34m{p}\\033[0m...')\n",
        "print(f'The \\033[4;34mlast letter \"A\"\\033[0m appears at position \\033[4;34m{u}\\033[0m...')\n"
      ]
    }
  ]
}