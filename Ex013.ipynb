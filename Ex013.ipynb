{
  "nbformat": 4,
  "nbformat_minor": 0,
  "metadata": {
    "colab": {
      "name": "Ex013.ipynb",
      "provenance": [],
      "collapsed_sections": [],
      "authorship_tag": "ABX9TyNPFnOmCG4gg2N5g4EQM/of",
      "include_colab_link": true
    },
    "kernelspec": {
      "name": "python3",
      "display_name": "Python 3"
    },
    "language_info": {
      "name": "python"
    }
  },
  "cells": [
    {
      "cell_type": "markdown",
      "metadata": {
        "id": "view-in-github",
        "colab_type": "text"
      },
      "source": [
        "<a href=\"https://colab.research.google.com/github/E-ternalSpring/Learning-Python/blob/main/Ex013.ipynb\" target=\"_parent\"><img src=\"https://colab.research.google.com/assets/colab-badge.svg\" alt=\"Open In Colab\"/></a>"
      ]
    },
    {
      "cell_type": "code",
      "execution_count": 1,
      "metadata": {
        "colab": {
          "base_uri": "https://localhost:8080/"
        },
        "id": "643WTT6Hhyuo",
        "outputId": "44cd58bd-b815-4898-9f27-3041cbd590ae"
      },
      "outputs": [
        {
          "output_type": "stream",
          "name": "stdout",
          "text": [
            "To start with a golden key, it is a pleasure to welcome \u001b[1;97;45mSprings & Springs\u001b[0m employees again in another year that begins, here at our company headquarters...\n",
            "And the first statement from our CEO, \u001b[1;35mMs. Spring\u001b[0m, is a \u001b[1;32m15%\u001b[0m general salary increase for all employees! Uhuuuul!!!\n",
            "Please enter your current salary for the adjustment here: R$1000\n",
            "\n",
            "Congratulations, your new salary is now \u001b[1;32mR$1150.00\u001b[0m, Isn´t that wonderful?\n"
          ]
        }
      ],
      "source": [
        "#Make an algorithm that reads an employee's salary and displays their new salary with a 15% increase.\n",
        "#(Again, I had a little fun solving this one. ANSI colors to make it prettier.)\n",
        "\n",
        "print('To start with a golden key, it is a pleasure to welcome \\033[1;97;45mSprings & Springs\\033[0m employees again in another year that begins, here at our company headquarters...')\n",
        "print('And the first statement from our CEO, \\033[1;35mMs. Spring\\033[0m, is a \\033[1;32m15%\\033[0m general salary increase for all employees! Uhuuuul!!!')\n",
        "v = float(input('Please enter your current salary for the adjustment here: R$'))\n",
        "r = v + (v * 15) / 100\n",
        "print(   )\n",
        "print(f'Congratulations, your new salary is now \\033[1;32mR${r:.2f}\\033[0m, Isn´t that wonderful?')\n"
      ]
    }
  ]
}