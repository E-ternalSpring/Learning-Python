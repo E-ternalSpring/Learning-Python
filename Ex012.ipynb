{
  "nbformat": 4,
  "nbformat_minor": 0,
  "metadata": {
    "colab": {
      "name": "Ex012.ipynb",
      "provenance": [],
      "collapsed_sections": [],
      "authorship_tag": "ABX9TyMJO2BAVI9GS5gR4wmbOzs9",
      "include_colab_link": true
    },
    "kernelspec": {
      "name": "python3",
      "display_name": "Python 3"
    },
    "language_info": {
      "name": "python"
    }
  },
  "cells": [
    {
      "cell_type": "markdown",
      "metadata": {
        "id": "view-in-github",
        "colab_type": "text"
      },
      "source": [
        "<a href=\"https://colab.research.google.com/github/E-ternalSpring/Learning-Python/blob/main/Ex012.ipynb\" target=\"_parent\"><img src=\"https://colab.research.google.com/assets/colab-badge.svg\" alt=\"Open In Colab\"/></a>"
      ]
    },
    {
      "cell_type": "code",
      "execution_count": 1,
      "metadata": {
        "colab": {
          "base_uri": "https://localhost:8080/"
        },
        "id": "G97SoCeSPZOw",
        "outputId": "bcb42da5-a8a2-43b3-d088-ef9b31ecb7e6"
      },
      "outputs": [
        {
          "output_type": "stream",
          "name": "stdout",
          "text": [
            "GOOD MORNING! I welcome you to Aunt Spring´s Bistro! Please have a seat, is the temperature to your liking? The customer is always the priority here!\n",
            "And by the way, we have a \u001b[1;32m15%\u001b[0m discount for new customers! Would you like to take a look at the menu? Here it is:\n",
            "   \n",
            "\u001b[1;33mHoney Chicken Fillet\u001b[0m - \u001b[1;33mR$50,00\u001b[0m\n",
            "\u001b[1;35mSweet Pancakes with Butter and Maple Syrup\u001b[0m - \u001b[1;35mR$40,00\u001b[0m\n",
            "\u001b[1;36mCondensed Milk Pudding\u001b[0m - \u001b[1;36mR$15,00\u001b[0m\n",
            "   \n",
            "Hmm? What do you mean by \u001b[4m\"only\"\u001b[0m these items? These are Spring´s specialties! Who is this? Well, it´s me!\n",
            "Why is everything sweet? Well the chicken is bittersweet... Anyway, you need to give it a try, it is worth the try, I swear!\n",
            "Now, what will my illustrious client ask for? Please let me know the order amount. R$40\n",
            "   \n",
            "Perfect... It will only cost \u001b[1;32mR$34.0\u001b[0m with the discount applied, right? Your order will arrive shortly, bon appetit!\n"
          ]
        }
      ],
      "source": [
        "#Make an algorithm that reads the price of a product and displays its new price, with a 15% discount.\n",
        "#(I played around with this exercise a little bit, and I also used ANSI colors to make it prettier.)\n",
        "\n",
        "print('GOOD MORNING! I welcome you to Aunt Spring´s Bistro! Please have a seat, is the temperature to your liking? The customer is always the priority here!')\n",
        "print('And by the way, we have a \\033[1;32m15%\\033[0m discount for new customers! Would you like to take a look at the menu? Here it is:')\n",
        "print('   ')\n",
        "print('\\033[1;33mHoney Chicken Fillet\\033[0m - \\033[1;33mR$50,00\\033[0m')\n",
        "print('\\033[1;35mSweet Pancakes with Butter and Maple Syrup\\033[0m - \\033[1;35mR$40,00\\033[0m')\n",
        "print('\\033[1;36mCondensed Milk Pudding\\033[0m - \\033[1;36mR$15,00\\033[0m')\n",
        "print('   ')\n",
        "print('Hmm? What do you mean by \\033[4m\"only\"\\033[0m these items? These are Spring´s specialties! Who is this? Well, it´s me!')\n",
        "print('Why is everything sweet? Well the chicken is bittersweet... Anyway, you need to give it a try, it is worth the try, I swear!')\n",
        "p = float(input('Now, what will my illustrious client ask for? Please let me know the order amount. R$'))\n",
        "v = p - (p * 15) / 100\n",
        "print('   ')\n",
        "print(f'Perfect... It will only cost \\033[1;32mR${v}\\033[0m with the discount applied, right? Your order will arrive shortly, bon appetit!')\n"
      ]
    }
  ]
}