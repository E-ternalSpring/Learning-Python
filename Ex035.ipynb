{
  "nbformat": 4,
  "nbformat_minor": 0,
  "metadata": {
    "colab": {
      "name": "Ex035.ipynb",
      "provenance": [],
      "collapsed_sections": [],
      "authorship_tag": "ABX9TyMavN3b2Y9sRvDxtGQFWceQ",
      "include_colab_link": true
    },
    "kernelspec": {
      "name": "python3",
      "display_name": "Python 3"
    },
    "language_info": {
      "name": "python"
    }
  },
  "cells": [
    {
      "cell_type": "markdown",
      "metadata": {
        "id": "view-in-github",
        "colab_type": "text"
      },
      "source": [
        "<a href=\"https://colab.research.google.com/github/E-ternalSpring/Learning-Python/blob/main/Ex035.ipynb\" target=\"_parent\"><img src=\"https://colab.research.google.com/assets/colab-badge.svg\" alt=\"Open In Colab\"/></a>"
      ]
    },
    {
      "cell_type": "code",
      "execution_count": 2,
      "metadata": {
        "colab": {
          "base_uri": "https://localhost:8080/"
        },
        "id": "jlqwP7D4lGhQ",
        "outputId": "3ff0d697-978b-4b0d-fcd2-deef2eefee75"
      },
      "outputs": [
        {
          "output_type": "stream",
          "name": "stdout",
          "text": [
            "\u001b[1;32m-=-\u001b[0m\u001b[1;32m-=-\u001b[0m\u001b[1;32m-=-\u001b[0m\u001b[1;32m-=-\u001b[0m\u001b[1;32m-=-\u001b[0m\u001b[1;32m-=-\u001b[0m\u001b[1;32m-=-\u001b[0m\n",
            "Triangle Analyzer\n",
            "\u001b[1;32m-=-\u001b[0m\u001b[1;32m-=-\u001b[0m\u001b[1;32m-=-\u001b[0m\u001b[1;32m-=-\u001b[0m\u001b[1;32m-=-\u001b[0m\u001b[1;32m-=-\u001b[0m\u001b[1;32m-=-\u001b[0m\n",
            "First segment: 3\n",
            "Second segment: 2\n",
            "Third Segment: 4\n",
            "The above segments \u001b[1;32mCAN\u001b[0m form a triangle!!!\n"
          ]
        }
      ],
      "source": [
        "#Develop a program that reads the length of three lines,\n",
        "# and tells the user whether or not they can form a triangle.\n",
        "#(ANSI colors to make it prettier.)\n",
        "\n",
        "print('\\033[1;32m-=-\\033[0m' * 7)\n",
        "print('Triangle Analyzer')\n",
        "print('\\033[1;32m-=-\\033[0m' * 7)\n",
        "s1 = float(input('First segment: '))\n",
        "s2 = float(input('Second segment: '))\n",
        "s3 = float(input('Third Segment: '))\n",
        "r = '\\033[1;31mCANNOT\\033[0m'\n",
        "if s1 + s2 > s3 and s1 + s3 > s2 and s2 + s3 > s1:\n",
        "    r = '\\033[1;32mCAN\\033[0m'\n",
        "print(f'The above segments {r} form a triangle!!!')\n",
        "\n",
        "#Condition of existence of a triangle: \n",
        "#Given three distinct line segments,\n",
        "# if the sum of the measures of two of them is always greater than the measure of the third,\n",
        "#  then they can form a triangle."
      ]
    }
  ]
}