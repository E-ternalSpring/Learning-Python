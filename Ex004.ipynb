{
  "nbformat": 4,
  "nbformat_minor": 0,
  "metadata": {
    "colab": {
      "name": "Ex004.ipynb",
      "provenance": [],
      "collapsed_sections": [],
      "authorship_tag": "ABX9TyMSqx2YRbZN9WacYuz492Ty",
      "include_colab_link": true
    },
    "kernelspec": {
      "name": "python3",
      "display_name": "Python 3"
    },
    "language_info": {
      "name": "python"
    }
  },
  "cells": [
    {
      "cell_type": "markdown",
      "metadata": {
        "id": "view-in-github",
        "colab_type": "text"
      },
      "source": [
        "<a href=\"https://colab.research.google.com/github/E-ternalSpring/Learning-Python/blob/main/Ex004.ipynb\" target=\"_parent\"><img src=\"https://colab.research.google.com/assets/colab-badge.svg\" alt=\"Open In Colab\"/></a>"
      ]
    },
    {
      "cell_type": "code",
      "execution_count": 1,
      "metadata": {
        "colab": {
          "base_uri": "https://localhost:8080/"
        },
        "id": "Gap0TzwyXzag",
        "outputId": "40930f6b-0891-41ca-945a-0e1276467eff"
      },
      "outputs": [
        {
          "output_type": "stream",
          "name": "stdout",
          "text": [
            "Type something: Tis but a scratch\n",
            "The primitive data type of the value is: \u001b[1;97;42m<class 'str'>\u001b[0m\n",
            "Is it alphabetic? \u001b[1;97;42mFalse\u001b[0m\n",
            "Is it numeric? \u001b[1;97;42mFalse\u001b[0m\n",
            "Is it alphanumeric? \u001b[1;97;42mFalse\u001b[0m\n",
            "Is it in capital letters? \u001b[1;97;42mFalse\u001b[0m\n",
            "Is it lowercase? \u001b[1;97;42mFalse\u001b[0m\n",
            "Is it capitalized? \u001b[1;97;42mFalse\u001b[0m\n",
            "Can it be printed? \u001b[1;97;42mTrue\u001b[0m\n",
            "Do it only have spaces? \u001b[1;97;42mFalse\u001b[0m\n"
          ]
        }
      ],
      "source": [
        "#Create a program that reads something through the keyboard, and shows on the screen its primitive type and all possible information...\n",
        "#(I also used ANSI colors to make it prettier... Again.)\n",
        "\n",
        "x = input('Type something: ')\n",
        "print(f'The primitive data type of the value is: \\033[1;97;42m{type(x)}\\033[0m')\n",
        "print(f'Is it alphabetic? \\033[1;97;42m{x.isalpha()}\\033[0m')\n",
        "print(f'Is it numeric? \\033[1;97;42m{x.isnumeric()}\\033[0m')\n",
        "print(f'Is it alphanumeric? \\033[1;97;42m{x.isalnum()}\\033[0m')\n",
        "print(f'Is it in capital letters? \\033[1;97;42m{x.isupper()}\\033[0m')\n",
        "print(f'Is it lowercase? \\033[1;97;42m{x.islower()}\\033[0m')\n",
        "print(f'Is it capitalized? \\033[1;97;42m{x.istitle()}\\033[0m')\n",
        "print(f'Can it be printed? \\033[1;97;42m{x.isprintable()}\\033[0m')\n",
        "print(f'Do it only have spaces? \\033[1;97;42m{x.isspace()}\\033[0m')\n"
      ]
    }
  ]
}