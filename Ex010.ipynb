{
  "nbformat": 4,
  "nbformat_minor": 0,
  "metadata": {
    "colab": {
      "name": "Ex010.ipynb",
      "provenance": [],
      "collapsed_sections": [],
      "authorship_tag": "ABX9TyPSnouwjM1tyI7FPZ+IrLzV",
      "include_colab_link": true
    },
    "kernelspec": {
      "name": "python3",
      "display_name": "Python 3"
    },
    "language_info": {
      "name": "python"
    }
  },
  "cells": [
    {
      "cell_type": "markdown",
      "metadata": {
        "id": "view-in-github",
        "colab_type": "text"
      },
      "source": [
        "<a href=\"https://colab.research.google.com/github/E-ternalSpring/Learning-Python/blob/main/Ex010.ipynb\" target=\"_parent\"><img src=\"https://colab.research.google.com/assets/colab-badge.svg\" alt=\"Open In Colab\"/></a>"
      ]
    },
    {
      "cell_type": "code",
      "execution_count": 1,
      "metadata": {
        "colab": {
          "base_uri": "https://localhost:8080/"
        },
        "id": "f5odrHpi-tGI",
        "outputId": "4e8398b1-8574-4c0e-9d6d-c886fda845ea"
      },
      "outputs": [
        {
          "output_type": "stream",
          "name": "stdout",
          "text": [
            "So, assuming we take a trip to \u001b[1;34mDisney\u001b[0m TODAY!\n",
            "And considering that \u001b[1;32m1 BRL\u001b[0m is equivalent to \u001b[1;31m0,21 USD\u001b[0m...\n",
            "How many dollars would you have in your wallet? Do not know?\n",
            "Alright, I will convert. Tell me, how many BRL do you have? R$200\n",
            "WHAT??? \u001b[1;31mUS$42.55\u001b[0m? Only that much?\n"
          ]
        }
      ],
      "source": [
        "#Create a program that reads how much money a person has in their wallet...\n",
        "#And shows how many dollars they can buy with that money.\n",
        "#(I considered the conversion from BRL (R$) to USD (US$) in the amount of 1R$ -> 0.21 US$ for the exercise.)\n",
        "#(And I also used ANSI colors to make it prettier!)\n",
        "\n",
        "print('So, assuming we take a trip to \\033[1;34mDisney\\033[0m TODAY!')\n",
        "print('And considering that \\033[1;32m1 BRL\\033[0m is equivalent to \\033[1;31m0,21 USD\\033[0m...') \n",
        "print('How many dollars would you have in your wallet? Do not know?')\n",
        "brl = float(input('Alright, I will convert. Tell me, how many BRL do you have? R$'))\n",
        "usd = brl / 4.70\n",
        "print(f'WHAT??? \\033[1;31mUS${usd:.2f}\\033[0m? Only that much?')\n"
      ]
    }
  ]
}