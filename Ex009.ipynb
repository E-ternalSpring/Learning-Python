{
  "nbformat": 4,
  "nbformat_minor": 0,
  "metadata": {
    "colab": {
      "name": "Ex009.ipynb",
      "provenance": [],
      "collapsed_sections": [],
      "authorship_tag": "ABX9TyNi1W71c6DQuPnZ+NMVVSXP",
      "include_colab_link": true
    },
    "kernelspec": {
      "name": "python3",
      "display_name": "Python 3"
    },
    "language_info": {
      "name": "python"
    }
  },
  "cells": [
    {
      "cell_type": "markdown",
      "metadata": {
        "id": "view-in-github",
        "colab_type": "text"
      },
      "source": [
        "<a href=\"https://colab.research.google.com/github/E-ternalSpring/Learning-Python/blob/main/Ex009.ipynb\" target=\"_parent\"><img src=\"https://colab.research.google.com/assets/colab-badge.svg\" alt=\"Open In Colab\"/></a>"
      ]
    },
    {
      "cell_type": "code",
      "execution_count": 1,
      "metadata": {
        "colab": {
          "base_uri": "https://localhost:8080/"
        },
        "id": "WWMkOW1U39A6",
        "outputId": "e87aa7bb-2ac0-4e44-d0bd-0a458af647ab"
      },
      "outputs": [
        {
          "output_type": "stream",
          "name": "stdout",
          "text": [
            "As I said I am a genius, and as such I know the multiplication table! Try it... 5\n",
            "   \n",
            "\u001b[32m-\u001b[32m-\u001b[32m-\u001b[32m-\u001b[32m-\u001b[32m-\u001b[32m-\u001b[32m-\u001b[32m-\u001b[32m-\u001b[32m-\u001b[32m-\n",
            "5 x 1 = 5\n",
            "5 x 2 = 10\n",
            "5 x 3 = 15\n",
            "5 x 4 = 20\n",
            "5 x 5 = 25\n",
            "5 x 6 = 30\n",
            "5 x 7 = 35\n",
            "5 x 8 = 40\n",
            "5 x 9 = 45\n",
            "5 x 10 = 50\n",
            "------------ \u001b[0m\n",
            "  \n",
            "Hey, did I get it right?\n"
          ]
        }
      ],
      "source": [
        "#Write a program that reads any integer, and displays its multiplication table on the screen.\n",
        "#(I also used ANSI colors to make it prettier!)\n",
        "\n",
        "n = int(input('As I said I am a genius, and as such I know the multiplication table! Try it... '))\n",
        "print('   ')\n",
        "print('\\033[32m-' * 12)\n",
        "print(f'{n} x {1} = {n * 1}')\n",
        "print(f'{n} x {2} = {n * 2}')\n",
        "print(f'{n} x {3} = {n * 3}')\n",
        "print(f'{n} x {4} = {n * 4}')\n",
        "print(f'{n} x {5} = {n * 5}')\n",
        "print(f'{n} x {6} = {n * 6}')\n",
        "print(f'{n} x {7} = {n * 7}')\n",
        "print(f'{n} x {8} = {n * 8}')\n",
        "print(f'{n} x {9} = {n * 9}')\n",
        "print(f'{n} x {10} = {n * 10}')\n",
        "print('-' * 12,'\\033[0m')\n",
        "print('  ')\n",
        "print('Hey, did I get it right?')\n"
      ]
    }
  ]
}