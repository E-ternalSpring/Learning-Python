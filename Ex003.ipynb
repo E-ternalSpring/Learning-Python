{
  "nbformat": 4,
  "nbformat_minor": 0,
  "metadata": {
    "colab": {
      "name": "Ex003.ipynb",
      "provenance": [],
      "collapsed_sections": [],
      "authorship_tag": "ABX9TyNeZfEUQTly1uQ7UFfcckMx",
      "include_colab_link": true
    },
    "kernelspec": {
      "name": "python3",
      "display_name": "Python 3"
    },
    "language_info": {
      "name": "python"
    }
  },
  "cells": [
    {
      "cell_type": "markdown",
      "metadata": {
        "id": "view-in-github",
        "colab_type": "text"
      },
      "source": [
        "<a href=\"https://colab.research.google.com/github/E-ternalSpring/Learning-Python/blob/main/Ex003.ipynb\" target=\"_parent\"><img src=\"https://colab.research.google.com/assets/colab-badge.svg\" alt=\"Open In Colab\"/></a>"
      ]
    },
    {
      "cell_type": "code",
      "source": [
        "#Create a program that adds two numbers and displays the result of the sum between them. (I also used ANSI colors to make it prettier!)\n",
        "\n",
        "n1 = int(input('Type in a number of your choice: '))\n",
        "n2 = int(input('Now, choose another number: '))\n",
        "r = n1 + n2\n",
        "print(f'The result of the sum of the numbers \\033[36m{n1}\\033[0m and \\033[36m{n2}\\033[0m, is: \\033[35m{r}\\033[0m! Voilà!!!')\n"
      ],
      "metadata": {
        "colab": {
          "base_uri": "https://localhost:8080/"
        },
        "id": "TSWKTPbBTXm3",
        "outputId": "035faaba-7d94-4e03-b393-7ddb18ad2908"
      },
      "execution_count": 3,
      "outputs": [
        {
          "output_type": "stream",
          "name": "stdout",
          "text": [
            "Type in a number of your choice: 40\n",
            "Now, choose another number: 35\n",
            "The result of the sum of the numbers \u001b[36m40\u001b[0m and \u001b[36m35\u001b[0m, is: \u001b[35m75\u001b[0m! Voilà!!!\n"
          ]
        }
      ]
    }
  ]
}