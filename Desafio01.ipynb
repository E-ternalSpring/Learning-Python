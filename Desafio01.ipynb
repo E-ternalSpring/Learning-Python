{
  "nbformat": 4,
  "nbformat_minor": 0,
  "metadata": {
    "colab": {
      "provenance": [],
      "authorship_tag": "ABX9TyP0A54PyohbW6wQsMFmnyJV",
      "include_colab_link": true
    },
    "kernelspec": {
      "name": "python3",
      "display_name": "Python 3"
    },
    "language_info": {
      "name": "python"
    }
  },
  "cells": [
    {
      "cell_type": "markdown",
      "metadata": {
        "id": "view-in-github",
        "colab_type": "text"
      },
      "source": [
        "<a href=\"https://colab.research.google.com/github/E-ternalSpring/Learning-Python/blob/main/Desafio01.ipynb\" target=\"_parent\"><img src=\"https://colab.research.google.com/assets/colab-badge.svg\" alt=\"Open In Colab\"/></a>"
      ]
    },
    {
      "cell_type": "code",
      "execution_count": 6,
      "metadata": {
        "colab": {
          "base_uri": "https://localhost:8080/"
        },
        "id": "nBfvlsReEsg8",
        "outputId": "f2e4658a-fd52-4ad3-92e1-418576dd2eb8"
      },
      "outputs": [
        {
          "output_type": "stream",
          "name": "stdout",
          "text": [
            "110\n",
            "É isso!\n"
          ]
        }
      ],
      "source": [
        "# Implementar uma solução em Python que retorne a soma de todos os elementos pares de uma lista.\n",
        "\n",
        "soma = 0\n",
        "for n in range(21):\n",
        "    if n % 2 == 0:\n",
        "        soma += n\n",
        "print(soma)\n",
        "print('É isso!')\n"
      ]
    }
  ]
}