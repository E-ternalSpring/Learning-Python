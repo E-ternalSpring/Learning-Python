{
  "nbformat": 4,
  "nbformat_minor": 0,
  "metadata": {
    "colab": {
      "name": "Ex008.ipynb",
      "provenance": [],
      "collapsed_sections": [],
      "authorship_tag": "ABX9TyMuyxhMKUIqfTF430y7m1Rw",
      "include_colab_link": true
    },
    "kernelspec": {
      "name": "python3",
      "display_name": "Python 3"
    },
    "language_info": {
      "name": "python"
    }
  },
  "cells": [
    {
      "cell_type": "markdown",
      "metadata": {
        "id": "view-in-github",
        "colab_type": "text"
      },
      "source": [
        "<a href=\"https://colab.research.google.com/github/E-ternalSpring/Learning-Python/blob/main/Ex008.ipynb\" target=\"_parent\"><img src=\"https://colab.research.google.com/assets/colab-badge.svg\" alt=\"Open In Colab\"/></a>"
      ]
    },
    {
      "cell_type": "code",
      "execution_count": 2,
      "metadata": {
        "colab": {
          "base_uri": "https://localhost:8080/"
        },
        "id": "Tm1fLUXXrfAL",
        "outputId": "6cdb24c9-0f1b-4c1b-fa93-0a97b71f407c"
      },
      "outputs": [
        {
          "output_type": "stream",
          "name": "stdout",
          "text": [
            "Tell me, how many meters? 3\n",
            "Oh yes, well, \u001b[1;32m3.0 meters\u001b[0m is equivalent to... \n",
            "...\n",
            "\u001b[1;31m0.003\u001b[0m Kilometers. \n",
            "\u001b[1;33m0.03\u001b[0m Hectometers. \n",
            "\u001b[1;35m0.3\u001b[0m Dekameters.\n",
            "\u001b[1;36m30.0\u001b[0m Decimeters. \n",
            "\u001b[1;34m300.0\u001b[0m Centimeters. \n",
            "And finally... \u001b[1;97m3000.0\u001b[0m Millimeters. It is easy, see?\n"
          ]
        }
      ],
      "source": [
        "#Write a program that reads a value in meters, and displays it converted to:\n",
        "#Kilometers, Hectometers, Dekameters, Decimeters, Centimeters, and Millimeters.\n",
        "#(I also used ANSI colors to make it prettier!)\n",
        "\n",
        "m = float(input('Tell me, how many meters? '))\n",
        "km = m / 1000\n",
        "hm = m / 100\n",
        "dam = m / 10\n",
        "dm = m * 10\n",
        "cm = m * 100\n",
        "mm = m * 1000\n",
        "print(f'Oh yes, well, \\033[1;32m{m} meters\\033[0m is equivalent to... \\n...')\n",
        "print(f'\\033[1;31m{km}\\033[0m Kilometers. \\n\\033[1;33m{hm}\\033[0m Hectometers. \\n\\033[1;35m{dam}\\033[0m Dekameters.')\n",
        "print(f'\\033[1;36m{dm}\\033[0m Decimeters. \\n\\033[1;34m{cm}\\033[0m Centimeters. \\nAnd finally... \\033[1;97m{mm}\\033[0m Millimeters. It is easy, see?')\n"
      ]
    }
  ]
}