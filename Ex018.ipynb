{
  "nbformat": 4,
  "nbformat_minor": 0,
  "metadata": {
    "colab": {
      "name": "Ex018.ipynb",
      "provenance": [],
      "collapsed_sections": [],
      "authorship_tag": "ABX9TyN6uqfDc3MVCohVc96IpyaR",
      "include_colab_link": true
    },
    "kernelspec": {
      "name": "python3",
      "display_name": "Python 3"
    },
    "language_info": {
      "name": "python"
    }
  },
  "cells": [
    {
      "cell_type": "markdown",
      "metadata": {
        "id": "view-in-github",
        "colab_type": "text"
      },
      "source": [
        "<a href=\"https://colab.research.google.com/github/E-ternalSpring/Learning-Python/blob/main/Ex018.ipynb\" target=\"_parent\"><img src=\"https://colab.research.google.com/assets/colab-badge.svg\" alt=\"Open In Colab\"/></a>"
      ]
    },
    {
      "cell_type": "code",
      "execution_count": 2,
      "metadata": {
        "colab": {
          "base_uri": "https://localhost:8080/"
        },
        "id": "09bop6VdHn1w",
        "outputId": "3d50377d-f1e3-4517-9589-290adab02ee2"
      },
      "outputs": [
        {
          "output_type": "stream",
          "name": "stdout",
          "text": [
            "Enter any angle: 30\n",
            "The angle \u001b[1;32m30.0\u001b[0m have the values:\n",
            "\u001b[1;34mSine:\u001b[0m 0.50\n",
            "\u001b[1;36mCosine:\u001b[0m 0.87\n",
            "\u001b[1;35mTangent:\u001b[0m 0.58\n"
          ]
        }
      ],
      "source": [
        "#Write a program that reads any angle and displays the value of the sine, cosine and tangent of that angle on the screen.\n",
        "#(ANSI colors to make it prettier.)\n",
        "\n",
        "from math import sin, cos, tan, radians\n",
        "a = float(input('Enter any angle: '))\n",
        "s = sin(radians(a))\n",
        "c = cos(radians(a))\n",
        "t = tan(radians(a))\n",
        "print(f'The angle \\033[1;32m{a}\\033[0m have the values:\\n\\033[1;34mSine:\\033[0m {s:.2f}')\n",
        "print(f'\\033[1;36mCosine:\\033[0m {c:.2f}\\n\\033[1;35mTangent:\\033[0m {t:.2f}')\n"
      ]
    }
  ]
}