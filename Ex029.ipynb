{
  "nbformat": 4,
  "nbformat_minor": 0,
  "metadata": {
    "colab": {
      "name": "Ex029.ipynb",
      "provenance": [],
      "collapsed_sections": [],
      "authorship_tag": "ABX9TyMvpL2oyOZV/iTf7guxSGau",
      "include_colab_link": true
    },
    "kernelspec": {
      "name": "python3",
      "display_name": "Python 3"
    },
    "language_info": {
      "name": "python"
    }
  },
  "cells": [
    {
      "cell_type": "markdown",
      "metadata": {
        "id": "view-in-github",
        "colab_type": "text"
      },
      "source": [
        "<a href=\"https://colab.research.google.com/github/E-ternalSpring/Learning-Python/blob/main/Ex029.ipynb\" target=\"_parent\"><img src=\"https://colab.research.google.com/assets/colab-badge.svg\" alt=\"Open In Colab\"/></a>"
      ]
    },
    {
      "cell_type": "code",
      "execution_count": 3,
      "metadata": {
        "colab": {
          "base_uri": "https://localhost:8080/"
        },
        "id": "CGrwygQPCtXI",
        "outputId": "bbeb7ab6-ed58-4ef3-a775-b78b49c87b48"
      },
      "outputs": [
        {
          "output_type": "stream",
          "name": "stdout",
          "text": [
            "What is the current speed of the car? 81\n",
            "\u001b[1;31mYOU HAVE BEEN FINED!!! You have exceeded the permitted speed limit of 80 km/h...\u001b[0m\n",
            " You must pay a fine of \u001b[1;31mR$7.00\u001b[0m!\n",
            "\u001b[1;32mHave a nice day, drive safely!\u001b[0m\n"
          ]
        }
      ],
      "source": [
        "#Write a program that reads a car's speed. If it exceeds 80 km/h, show a message saying that it has been fined.\n",
        "#The fine will cost R$7,00 per Km above the limit. (ANSI colors to make it cute!)\n",
        "\n",
        "vel = float(input('What is the current speed of the car? '))\n",
        "if vel > 80:\n",
        "    print(f'\\033[1;31mYOU HAVE BEEN FINED!!! You have exceeded the permitted speed limit of 80 km/h...\\033[0m\\n You must pay a fine of \\033[1;31mR${(vel - 80) * 7:.2f}\\033[0m!')\n",
        "print('\\033[1;32mHave a nice day, drive safely!\\033[0m')\n"
      ]
    }
  ]
}