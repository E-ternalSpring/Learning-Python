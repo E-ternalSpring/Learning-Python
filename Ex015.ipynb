{
  "nbformat": 4,
  "nbformat_minor": 0,
  "metadata": {
    "colab": {
      "name": "Ex015.ipynb",
      "provenance": [],
      "collapsed_sections": [],
      "authorship_tag": "ABX9TyPIha6DvBer5BcihLZTrrN7",
      "include_colab_link": true
    },
    "kernelspec": {
      "name": "python3",
      "display_name": "Python 3"
    },
    "language_info": {
      "name": "python"
    }
  },
  "cells": [
    {
      "cell_type": "markdown",
      "metadata": {
        "id": "view-in-github",
        "colab_type": "text"
      },
      "source": [
        "<a href=\"https://colab.research.google.com/github/E-ternalSpring/Learning-Python/blob/main/Ex015.ipynb\" target=\"_parent\"><img src=\"https://colab.research.google.com/assets/colab-badge.svg\" alt=\"Open In Colab\"/></a>"
      ]
    },
    {
      "cell_type": "code",
      "execution_count": 2,
      "metadata": {
        "colab": {
          "base_uri": "https://localhost:8080/"
        },
        "id": "dHMAohXpHLfI",
        "outputId": "51176bac-9bf3-435f-d8a0-307a834e5f4b"
      },
      "outputs": [
        {
          "output_type": "stream",
          "name": "stdout",
          "text": [
            "Welcome to \u001b[1;35mSpringu´s Tavern\u001b[0m wagon hire service!\n",
            "...\n",
            "I can see from the wagon behind you that you have come to make a \u001b[4mreturn\u001b[0m, am I correct?\n",
            "Please, for the calculation of the fee, for how many days have you been renting this wagon? 3\n",
            "Ah I see, and what was the distance in kilometers traveled by the wagon during this period? 50\n",
            "...\n",
            "Perfect! According to my calculations, there will be a fee of \u001b[1;31m180.00 gold coins\u001b[0m per day of rent...\n",
            "And another fee of \u001b[1;31m7.50 gold coins\u001b[0m for the mileage traveled...\n",
            "The sum of these fees will be \u001b[1;31m187.50 gold coins\u001b[0m, which is the full amount to be paid! We accept:\n",
            "\u001b[1;33mGold\u001b[0m, \u001b[1;37msilver\u001b[0m, \u001b[1;31mcopper\u001b[0m, \u001b[1;97manimals\u001b[0m, \u001b[1;32mlands\u001b[0m, \u001b[1;35mjewels\u001b[0m, \u001b[1;34mgoods\u001b[0m, and \u001b[1;36mpix\u001b[0m, what do you think?\n"
          ]
        }
      ],
      "source": [
        "#Write a program that asks the number of kilometers traveled by a rented car and the number of days for which it was rented...\n",
        "#Calculate the price to pay, knowing that the car costs R$60.00 per day and R$0.15 per km driven.\n",
        "#(Again had some fun with the exercise, and used ANSI colors.)\n",
        "\n",
        "print('Welcome to \\033[1;35mSpringu´s Tavern\\033[0m wagon hire service!')\n",
        "print('...')\n",
        "print('I can see from the wagon behind you that you have come to make a \\033[4mreturn\\033[0m, am I correct?')\n",
        "d = float(input('Please, for the calculation of the fee, for how many days have you been renting this wagon? '))\n",
        "k = float(input('Ah I see, and what was the distance in kilometers traveled by the wagon during this period? '))\n",
        "td = d * 60\n",
        "tk = k * 0.15\n",
        "t = td + tk\n",
        "print('...')\n",
        "print(f'Perfect! According to my calculations, there will be a fee of \\033[1;31m{td:.2f} gold coins\\033[0m per day of rent...')\n",
        "print(f'And another fee of \\033[1;31m{tk:.2f} gold coins\\033[0m for the mileage traveled...')\n",
        "print(f'The sum of these fees will be \\033[1;31m{t:.2f} gold coins\\033[0m, which is the full amount to be paid! We accept:')\n",
        "print(f'\\033[1;33mGold\\033[0m, \\033[1;37msilver\\033[0m, \\033[1;31mcopper\\033[0m, \\033[1;97manimals\\033[0m, \\033[1;32mlands\\033[0m, \\033[1;35mjewels\\033[0m, \\033[1;34mgoods\\033[0m, and \\033[1;36mpix\\033[0m, what do you think?')\n"
      ]
    }
  ]
}