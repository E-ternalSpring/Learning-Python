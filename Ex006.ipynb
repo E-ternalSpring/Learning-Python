{
  "nbformat": 4,
  "nbformat_minor": 0,
  "metadata": {
    "colab": {
      "name": "Ex006.ipynb",
      "provenance": [],
      "collapsed_sections": [],
      "authorship_tag": "ABX9TyOR2Qw4gazDpl52LqsfRYsd",
      "include_colab_link": true
    },
    "kernelspec": {
      "name": "python3",
      "display_name": "Python 3"
    },
    "language_info": {
      "name": "python"
    }
  },
  "cells": [
    {
      "cell_type": "markdown",
      "metadata": {
        "id": "view-in-github",
        "colab_type": "text"
      },
      "source": [
        "<a href=\"https://colab.research.google.com/github/E-ternalSpring/Learning-Python/blob/main/Ex006.ipynb\" target=\"_parent\"><img src=\"https://colab.research.google.com/assets/colab-badge.svg\" alt=\"Open In Colab\"/></a>"
      ]
    },
    {
      "cell_type": "code",
      "execution_count": 9,
      "metadata": {
        "colab": {
          "base_uri": "https://localhost:8080/"
        },
        "id": "vujg4_hTcIyE",
        "outputId": "0bee441e-264d-4192-85cf-0eb33aa935e9"
      },
      "outputs": [
        {
          "output_type": "stream",
          "name": "stdout",
          "text": [
            "Give me a number of your choice... Any one will do: 35\n",
            "...\n",
            "Ok, 35 is good enough... \u001b[4mit is not what i expected\u001b[0m, but it will do.\n",
            "\u001b[36mThe double of 35 is 70, while the triple is 105, and its square root is 5.92\u001b[0m!\n",
            "So what? I am really brilliant, am I not!?\n"
          ]
        }
      ],
      "source": [
        "#Create an algorithm that reads a number and displays its double, triple, and square root. (I also used ANSI colors to make it prettier!)\n",
        "\n",
        "n = int(input('Give me a number of your choice... Any one will do: '))\n",
        "print(f'...\\nOk, {n} is good enough... \\033[4mit is not what i expected\\033[0m, but it will do.')\n",
        "print(f'\\033[36mThe double of {n} is {n * 2}, while the triple is {n * 3}, and its square root is {n ** (1/2):.2f}\\033[0m!')\n",
        "print('So what? I am really brilliant, am I not!?')\n"
      ]
    }
  ]
}