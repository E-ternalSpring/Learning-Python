{
  "nbformat": 4,
  "nbformat_minor": 0,
  "metadata": {
    "colab": {
      "name": "Ex017.ipynb",
      "provenance": [],
      "collapsed_sections": [],
      "authorship_tag": "ABX9TyMfIpUS8yYr5DV8HiU4E5HO",
      "include_colab_link": true
    },
    "kernelspec": {
      "name": "python3",
      "display_name": "Python 3"
    },
    "language_info": {
      "name": "python"
    }
  },
  "cells": [
    {
      "cell_type": "markdown",
      "metadata": {
        "id": "view-in-github",
        "colab_type": "text"
      },
      "source": [
        "<a href=\"https://colab.research.google.com/github/E-ternalSpring/Learning-Python/blob/main/Ex017.ipynb\" target=\"_parent\"><img src=\"https://colab.research.google.com/assets/colab-badge.svg\" alt=\"Open In Colab\"/></a>"
      ]
    },
    {
      "cell_type": "code",
      "execution_count": 1,
      "metadata": {
        "colab": {
          "base_uri": "https://localhost:8080/"
        },
        "id": "b-XfsxL1G9r4",
        "outputId": "1025eead-c857-4796-ee32-878d6cf96663"
      },
      "outputs": [
        {
          "output_type": "stream",
          "name": "stdout",
          "text": [
            "Enter the length of the \u001b[4;34mopposite side\u001b[0m of a right triangle: 2\n",
            "Now enter the length of the \u001b[4;36madjacent side\u001b[0m of the same right triangle: 2.5\n",
            "The length of the \u001b[4;35mhypotenuse\u001b[0m of this right triangle is \u001b[4;35m3.20\u001b[0m\n"
          ]
        }
      ],
      "source": [
        "#Write a program that reads the length of the opposite and adjacent sides of a right triangle...\n",
        "#Calculates and displays the length of the hypotenuse.\n",
        "#(I did it twice, first with \"hypot\" from \"math\" library, and then with hypotenuse formula.)\n",
        "#(ANSI colors again to make it prettier.)\n",
        "\n",
        "from math import hypot\n",
        "co = float(input('Enter the length of the \\033[4;34mopposite side\\033[0m of a right triangle: '))\n",
        "ca = float(input('Now enter the length of the \\033[4;36madjacent side\\033[0m of the same right triangle: '))\n",
        "ht = hypot(co, ca)\n",
        "print(f'The length of the \\033[4;35mhypotenuse\\033[0m of this right triangle is \\033[4;35m{ht:.2f}\\033[0m')\n"
      ]
    },
    {
      "cell_type": "code",
      "source": [
        "co = float(input('Enter the length of the \\033[4;34mopposite side\\033[0m of a right triangle: '))\n",
        "ca = float(input('Now enter the length of the \\033[4;36madjacent side\\033[0m of the same right triangle: '))\n",
        "print(f'The length of the \\033[4;35mhypotenuse\\033[0m of this right triangle is \\033[4;35m{(co ** 2 + ca ** 2) ** (1 / 2):.2f}\\033[0m')\n"
      ],
      "metadata": {
        "colab": {
          "base_uri": "https://localhost:8080/"
        },
        "id": "CQuHDYsWmA4T",
        "outputId": "239edc43-c8b2-499f-a4d3-a52584f9cb6c"
      },
      "execution_count": 2,
      "outputs": [
        {
          "output_type": "stream",
          "name": "stdout",
          "text": [
            "Enter the length of the \u001b[4;34mopposite side\u001b[0m of a right triangle: 2\n",
            "Now enter the length of the \u001b[4;36madjacent side\u001b[0m of the same right triangle: 2.5\n",
            "The length of the \u001b[4;35mhypotenuse\u001b[0m of this right triangle is \u001b[4;35m3.20\u001b[0m\n"
          ]
        }
      ]
    }
  ]
}