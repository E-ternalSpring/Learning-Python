{
  "nbformat": 4,
  "nbformat_minor": 0,
  "metadata": {
    "colab": {
      "name": "Ex032.ipynb",
      "provenance": [],
      "collapsed_sections": [],
      "authorship_tag": "ABX9TyPF0WOH/deyz8ijLe5FFn8l",
      "include_colab_link": true
    },
    "kernelspec": {
      "name": "python3",
      "display_name": "Python 3"
    },
    "language_info": {
      "name": "python"
    }
  },
  "cells": [
    {
      "cell_type": "markdown",
      "metadata": {
        "id": "view-in-github",
        "colab_type": "text"
      },
      "source": [
        "<a href=\"https://colab.research.google.com/github/E-ternalSpring/Learning-Python/blob/main/Ex032.ipynb\" target=\"_parent\"><img src=\"https://colab.research.google.com/assets/colab-badge.svg\" alt=\"Open In Colab\"/></a>"
      ]
    },
    {
      "cell_type": "code",
      "execution_count": 2,
      "metadata": {
        "colab": {
          "base_uri": "https://localhost:8080/"
        },
        "id": "0RElWxVYgZe_",
        "outputId": "501f94b4-ed7f-43df-f04f-c0b7d5fa3806"
      },
      "outputs": [
        {
          "output_type": "stream",
          "name": "stdout",
          "text": [
            "Which year do you want to analyze? Enter 0 to analyze the current year: 2020\n",
            "The year \u001b[4;32m2020 is a LEAP YEAR\u001b[0m, because it has 366 days!\n"
          ]
        }
      ],
      "source": [
        "#Make a program that reads any year and shows if it is a leap year.\n",
        "#(ANSI colors to make it cute!)\n",
        "\n",
        "from datetime import date\n",
        "a = int(input('Which year do you want to analyze? Enter 0 to analyze the current year: '))\n",
        "if a == 0:\n",
        "    a = date.today().year # Data atual do sistema.\n",
        "# == (sinal de igual) != (sinal de diferente)\n",
        "if a % 4 == 0 and a % 100 != 0 or a % 400 == 0:\n",
        "    print(f'The year \\033[4;32m{a} is a LEAP YEAR\\033[0m, because it has 366 days!')\n",
        "else:\n",
        "    print(f'The year \\033[4;31m{a} is NOT a LEAP YEAR\\033[0m, as it has 365 days!')\n"
      ]
    }
  ]
}