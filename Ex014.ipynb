{
  "nbformat": 4,
  "nbformat_minor": 0,
  "metadata": {
    "colab": {
      "name": "Ex014.ipynb",
      "provenance": [],
      "collapsed_sections": [],
      "authorship_tag": "ABX9TyNsftE5VC2SnaxOnd3BZFfD",
      "include_colab_link": true
    },
    "kernelspec": {
      "name": "python3",
      "display_name": "Python 3"
    },
    "language_info": {
      "name": "python"
    }
  },
  "cells": [
    {
      "cell_type": "markdown",
      "metadata": {
        "id": "view-in-github",
        "colab_type": "text"
      },
      "source": [
        "<a href=\"https://colab.research.google.com/github/E-ternalSpring/Learning-Python/blob/main/Ex014.ipynb\" target=\"_parent\"><img src=\"https://colab.research.google.com/assets/colab-badge.svg\" alt=\"Open In Colab\"/></a>"
      ]
    },
    {
      "cell_type": "code",
      "execution_count": 1,
      "metadata": {
        "colab": {
          "base_uri": "https://localhost:8080/"
        },
        "id": "GA9AYAg44sTW",
        "outputId": "32e9c179-52ed-4e9f-ef48-55c3654e2e4d"
      },
      "outputs": [
        {
          "output_type": "stream",
          "name": "stdout",
          "text": [
            "All sorts of calculations and conversions are possible for me, after all I am an \u001b[1;32melder dragon\u001b[0m, and therefore guardian of all knowledge!\n",
            "...\n",
            "Do you want to know the conversion from Celsius to Fahrenheit? Easy, tell me the temperature in C°: 30\n",
            "The temperature of \u001b[1;34m30.0°C\u001b[0m corresponds to \u001b[1;36m86.0°F\u001b[0m! Easy, right?\n"
          ]
        }
      ],
      "source": [
        "#Write a program that converts a temperature typed in C° to F°.\n",
        "#(Also had fun with this one, D&D vibes. ANSI colors to make it prettier.)\n",
        "\n",
        "print('All sorts of calculations and conversions are possible for me, after all I am an \\033[1;32melder dragon\\033[0m, and therefore guardian of all knowledge!')\n",
        "print('...')\n",
        "c = float(input('Do you want to know the conversion from Celsius to Fahrenheit? Easy, tell me the temperature in C°: '))\n",
        "f = (c * 9) / 5 + 32\n",
        "print(f'The temperature of \\033[1;34m{c:.1f}°C\\033[0m corresponds to \\033[1;36m{f:.1f}°F\\033[0m! Easy, right?')"
      ]
    }
  ]
}