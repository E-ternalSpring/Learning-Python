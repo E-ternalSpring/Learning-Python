{
  "nbformat": 4,
  "nbformat_minor": 0,
  "metadata": {
    "colab": {
      "name": "Ex034.ipynb",
      "provenance": [],
      "collapsed_sections": [],
      "authorship_tag": "ABX9TyNb3yoWtHysVnB3UpD4rYhp",
      "include_colab_link": true
    },
    "kernelspec": {
      "name": "python3",
      "display_name": "Python 3"
    },
    "language_info": {
      "name": "python"
    }
  },
  "cells": [
    {
      "cell_type": "markdown",
      "metadata": {
        "id": "view-in-github",
        "colab_type": "text"
      },
      "source": [
        "<a href=\"https://colab.research.google.com/github/E-ternalSpring/Learning-Python/blob/main/Ex034.ipynb\" target=\"_parent\"><img src=\"https://colab.research.google.com/assets/colab-badge.svg\" alt=\"Open In Colab\"/></a>"
      ]
    },
    {
      "cell_type": "code",
      "execution_count": 2,
      "metadata": {
        "colab": {
          "base_uri": "https://localhost:8080/"
        },
        "id": "tWx9xa9rfH4r",
        "outputId": "fb06914e-1a60-450f-a361-910c2647f027"
      },
      "outputs": [
        {
          "output_type": "stream",
          "name": "stdout",
          "text": [
            "What is the employee´s salary? 1100\n",
            "The employee who earned \u001b[1;34mR$1100.00\u001b[0m, receives a raise of \u001b[1;32m15%\u001b[0m.\n",
            "And will therefore receive \u001b[1;32mR$1265.00\u001b[0m from now on. Congratulations!!!\n"
          ]
        }
      ],
      "source": [
        "#Write a program that asks for an employee's salary and calculates the amount of his raise.\n",
        "#For salaries greater than R$1,250.00, calculate a 10% increase.\n",
        "#For salaries below or up to this amount, calculate a 15% increase.\n",
        "#(ANSI colors to make it prettier.)\n",
        "\n",
        "s = float(input('What is the employee´s salary? '))\n",
        "a = 10 if s > 1250 else 15\n",
        "ns = s + ((s * a) / 100)\n",
        "print(f'The employee who earned \\033[1;34mR${s:.2f}\\033[0m, receives a raise of \\033[1;32m{a}%\\033[0m.')\n",
        "print(f'And will therefore receive \\033[1;32mR${ns:.2f}\\033[0m from now on. Congratulations!!!')\n"
      ]
    }
  ]
}