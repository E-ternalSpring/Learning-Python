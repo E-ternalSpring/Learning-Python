{
  "nbformat": 4,
  "nbformat_minor": 0,
  "metadata": {
    "colab": {
      "name": "Ex021.ipynb",
      "provenance": [],
      "collapsed_sections": [],
      "authorship_tag": "ABX9TyOtZaTEZqbGORbF/C98u5ba",
      "include_colab_link": true
    },
    "kernelspec": {
      "name": "python3",
      "display_name": "Python 3"
    },
    "language_info": {
      "name": "python"
    }
  },
  "cells": [
    {
      "cell_type": "markdown",
      "metadata": {
        "id": "view-in-github",
        "colab_type": "text"
      },
      "source": [
        "<a href=\"https://colab.research.google.com/github/E-ternalSpring/Learning-Python/blob/main/Ex021.ipynb\" target=\"_parent\"><img src=\"https://colab.research.google.com/assets/colab-badge.svg\" alt=\"Open In Colab\"/></a>"
      ]
    },
    {
      "cell_type": "code",
      "execution_count": null,
      "metadata": {
        "id": "qimAJRbAwWUj"
      },
      "outputs": [],
      "source": [
        "#Make a program that opens and plays the audio from an MP3 file.\n",
        "#(This is a simulation of how I learned to do it.)\n",
        "\n",
        "import pygame\n",
        "pygame.init()\n",
        "pygame.mixer.music.load('arquivo.mp3')\n",
        "pygame.mixer.music.play()\n",
        "pygame.event.wait()\n"
      ]
    }
  ]
}