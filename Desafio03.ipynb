{
  "nbformat": 4,
  "nbformat_minor": 0,
  "metadata": {
    "colab": {
      "provenance": [],
      "authorship_tag": "ABX9TyOaggFOvCEINKZAHoIGlmLR",
      "include_colab_link": true
    },
    "kernelspec": {
      "name": "python3",
      "display_name": "Python 3"
    },
    "language_info": {
      "name": "python"
    }
  },
  "cells": [
    {
      "cell_type": "markdown",
      "metadata": {
        "id": "view-in-github",
        "colab_type": "text"
      },
      "source": [
        "<a href=\"https://colab.research.google.com/github/E-ternalSpring/Learning-Python/blob/main/Desafio03.ipynb\" target=\"_parent\"><img src=\"https://colab.research.google.com/assets/colab-badge.svg\" alt=\"Open In Colab\"/></a>"
      ]
    },
    {
      "cell_type": "code",
      "execution_count": 12,
      "metadata": {
        "colab": {
          "base_uri": "https://localhost:8080/"
        },
        "id": "nk1sSj-WV8qt",
        "outputId": "2a738089-3f75-4ec0-ff38-ea0dd3c4184a"
      },
      "outputs": [
        {
          "output_type": "stream",
          "name": "stdout",
          "text": [
            "Digite um número: Três\n",
            "Por favor, digite um valor válido...\n",
            "Digite um número: Dois\n",
            "Por favor, digite um valor válido...\n",
            "Digite um número: Um\n",
            "Por favor, digite um valor válido...\n",
            "Digite um número: 5\n",
            "O valor digitado foi 5. Obrigada pela atenção!\n"
          ]
        }
      ],
      "source": [
        "# Implementar uma solução em Python que faça o tratamento de exceção para verificar se uma entrada é numérica.\n",
        "# E que, além disso, insista que o usuário digite um número válido.\n",
        "\n",
        "n = 0\n",
        "while True:\n",
        "    try:\n",
        "        v = int(input('Digite um número: '))\n",
        "        n += v\n",
        "        break\n",
        "    except ValueError:\n",
        "        print('Por favor, digite um valor válido...')\n",
        "print(f'O valor digitado foi {n}. Obrigada pela atenção!')\n"
      ]
    }
  ]
}