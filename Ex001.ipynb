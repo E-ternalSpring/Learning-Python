{
  "nbformat": 4,
  "nbformat_minor": 0,
  "metadata": {
    "colab": {
      "name": "Ex001.ipynb",
      "provenance": [],
      "collapsed_sections": [],
      "authorship_tag": "ABX9TyNItbZvAXZ2Sv5egAs3XJCN",
      "include_colab_link": true
    },
    "kernelspec": {
      "name": "python3",
      "display_name": "Python 3"
    },
    "language_info": {
      "name": "python"
    }
  },
  "cells": [
    {
      "cell_type": "markdown",
      "metadata": {
        "id": "view-in-github",
        "colab_type": "text"
      },
      "source": [
        "<a href=\"https://colab.research.google.com/github/E-ternalSpring/Learning-Python/blob/main/Hello%20world.ipynb\" target=\"_parent\"><img src=\"https://colab.research.google.com/assets/colab-badge.svg\" alt=\"Open In Colab\"/></a>"
      ]
    },
    {
      "cell_type": "code",
      "execution_count": 1,
      "metadata": {
        "id": "gWLEc7RRm3nd",
        "colab": {
          "base_uri": "https://localhost:8080/"
        },
        "outputId": "6592d0e2-3f16-4ef1-e087-b1b03a15e7a1"
      },
      "outputs": [
        {
          "output_type": "stream",
          "name": "stdout",
          "text": [
            "\u001b[0;35mHello world!\u001b[m\n"
          ]
        }
      ],
      "source": [
        "#Create a program that writes \"Hello world\" on the screen. (I also used ANSI colors to make it prettier!)\n",
        "\n",
        "print('\\033[0;35mHello world!\\033[m')\n"
      ]
    }
  ]
}
