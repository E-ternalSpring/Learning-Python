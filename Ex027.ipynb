{
  "nbformat": 4,
  "nbformat_minor": 0,
  "metadata": {
    "colab": {
      "name": "Ex027.ipynb",
      "provenance": [],
      "collapsed_sections": [],
      "authorship_tag": "ABX9TyMxRcvuirVsflkz9RVKsnC2",
      "include_colab_link": true
    },
    "kernelspec": {
      "name": "python3",
      "display_name": "Python 3"
    },
    "language_info": {
      "name": "python"
    }
  },
  "cells": [
    {
      "cell_type": "markdown",
      "metadata": {
        "id": "view-in-github",
        "colab_type": "text"
      },
      "source": [
        "<a href=\"https://colab.research.google.com/github/E-ternalSpring/Learning-Python/blob/main/Ex027.ipynb\" target=\"_parent\"><img src=\"https://colab.research.google.com/assets/colab-badge.svg\" alt=\"Open In Colab\"/></a>"
      ]
    },
    {
      "cell_type": "code",
      "execution_count": 2,
      "metadata": {
        "colab": {
          "base_uri": "https://localhost:8080/"
        },
        "id": "xD0G4Xfs7RDw",
        "outputId": "892fc6e2-88f5-44e8-beef-33cad2495154"
      },
      "outputs": [
        {
          "output_type": "stream",
          "name": "stdout",
          "text": [
            "Enter your full name: Emmanuelle Espindola de Carvalho Pinto\n",
            "Nice to meet you \u001b[1;35mEmmanuelle Espindola de Carvalho Pinto\u001b[0m!\n",
            "Your first name is \u001b[1;35mEmmanuelle\u001b[0m.\n",
            "Your last name is \u001b[1;35mPinto\u001b[0m.\n"
          ]
        }
      ],
      "source": [
        "#Write a program that reads a person's full name, then displays the first and last names separately.\n",
        "#(ANSI colors to make it prettier.)\n",
        "\n",
        "n = str(input('Enter your full name: ')).strip()\n",
        "print(f'Nice to meet you \\033[1;35m{n}\\033[0m!')\n",
        "n = n.split()\n",
        "print(f'Your first name is \\033[1;35m{n[0]}\\033[0m.')\n",
        "print(f'Your last name is \\033[1;35m{n[-1]}\\033[0m.')\n",
        " "
      ]
    }
  ]
}