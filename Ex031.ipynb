{
  "nbformat": 4,
  "nbformat_minor": 0,
  "metadata": {
    "colab": {
      "name": "Ex031.ipynb",
      "provenance": [],
      "collapsed_sections": [],
      "authorship_tag": "ABX9TyN6Fy+Ur0naWHT+97rQ7teL",
      "include_colab_link": true
    },
    "kernelspec": {
      "name": "python3",
      "display_name": "Python 3"
    },
    "language_info": {
      "name": "python"
    }
  },
  "cells": [
    {
      "cell_type": "markdown",
      "metadata": {
        "id": "view-in-github",
        "colab_type": "text"
      },
      "source": [
        "<a href=\"https://colab.research.google.com/github/E-ternalSpring/Learning-Python/blob/main/Ex031.ipynb\" target=\"_parent\"><img src=\"https://colab.research.google.com/assets/colab-badge.svg\" alt=\"Open In Colab\"/></a>"
      ]
    },
    {
      "cell_type": "code",
      "execution_count": 1,
      "metadata": {
        "colab": {
          "base_uri": "https://localhost:8080/"
        },
        "id": "8QDTwafmNo1D",
        "outputId": "6238c065-125e-48a5-ec2a-3685396c729d"
      },
      "outputs": [
        {
          "output_type": "stream",
          "name": "stdout",
          "text": [
            "What is the distance of your trip in kilometers? 50\n",
            "You are about to start a journey of \u001b[1;34m50.0Km\u001b[0m\n",
            "And the price of your ticket will be \u001b[1;31mR$25.00\u001b[0m\n"
          ]
        }
      ],
      "source": [
        "#Develop a program that asks for the distance of a trip in kilometers and calculates the price of the ticket...\n",
        "#There will be a fee of R$0.50 per km for trips of up to 200 km and R$0.45 for longer trips.\n",
        "#(I wrote this in two different ways, the second being more compact and concise. ANSI colors to make it prettier)\n",
        "\n",
        "v = float(input('What is the distance of your trip in kilometers? '))\n",
        "print(f'You are about to start a journey of \\033[1;34m{v:.1f}Km\\033[0m')\n",
        "if v <= 200:\n",
        "    print(f'And the price of your ticket will be \\033[1;31mR${v * 0.50:.2f}\\033[0m')\n",
        "else:\n",
        "    print(f'And the price of your ticket will be \\033[1;31mR${v * 0.45:.2f}\\033[0m')\n"
      ]
    },
    {
      "cell_type": "code",
      "source": [
        "v = float(input('What is the distance of your trip in kilometers? '))\n",
        "print(f'You are about to start a journey of \\033[1;34m{v:.1f}Km\\033[0m')\n",
        "p = v * 0.50 if v <= 200 else v * 0.45\n",
        "print(f'And the price of your ticket will be \\033[1;31mR$R${p:.2f}\\033[0m')\n"
      ],
      "metadata": {
        "colab": {
          "base_uri": "https://localhost:8080/"
        },
        "id": "sDT5TrVQeQhD",
        "outputId": "b559c35e-ec0a-4ae9-a660-24f448d82082"
      },
      "execution_count": 2,
      "outputs": [
        {
          "output_type": "stream",
          "name": "stdout",
          "text": [
            "What is the distance of your trip in kilometers? 50\n",
            "You are about to start a journey of \u001b[1;34m50.0Km\u001b[0m\n",
            "And the price of your ticket will be \u001b[1;31mR$R$25.00\u001b[0m\n"
          ]
        }
      ]
    }
  ]
}