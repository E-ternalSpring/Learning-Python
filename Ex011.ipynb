{
  "nbformat": 4,
  "nbformat_minor": 0,
  "metadata": {
    "colab": {
      "name": "Ex011.ipynb",
      "provenance": [],
      "collapsed_sections": [],
      "authorship_tag": "ABX9TyO9ze1bOChVbZxkyis1zy8k",
      "include_colab_link": true
    },
    "kernelspec": {
      "name": "python3",
      "display_name": "Python 3"
    },
    "language_info": {
      "name": "python"
    }
  },
  "cells": [
    {
      "cell_type": "markdown",
      "metadata": {
        "id": "view-in-github",
        "colab_type": "text"
      },
      "source": [
        "<a href=\"https://colab.research.google.com/github/E-ternalSpring/Learning-Python/blob/main/Ex011.ipynb\" target=\"_parent\"><img src=\"https://colab.research.google.com/assets/colab-badge.svg\" alt=\"Open In Colab\"/></a>"
      ]
    },
    {
      "cell_type": "code",
      "execution_count": 2,
      "metadata": {
        "colab": {
          "base_uri": "https://localhost:8080/"
        },
        "id": "QICdYKQkIEiZ",
        "outputId": "375ba0a7-261f-4c14-cd61-05ebfbad9f84"
      },
      "outputs": [
        {
          "output_type": "stream",
          "name": "stdout",
          "text": [
            "Wait, why do \u001b[1;31mI\u001b[0m have to buy ink? The wall is yours!\n",
            "What do you mean by \u001b[1;31m\"you owe me\"\u001b[0m? I do not remember this!\n",
            "...Argh, ok, fine, I will buy! But first...\n",
            "What is the width of the damn wall in meters? 2\n",
            "Okay, what about the height? 2\n",
            "Hmm... The area of your wall is \u001b[1;32m4.0m²\u001b[0m, and 1L of paint, paints 2m². Which means...\n",
            "That we will need \u001b[1;32m2.0L\u001b[0m of paint to paint your wall. Okay, I am going to buy it, but do not get used to it...\n"
          ]
        }
      ],
      "source": [
        "#Write a program that reads the width and height of a wall in meters...\n",
        "#Calculates its area and the amount of paint needed to paint it, knowing that each liter of paint paints an area of 2m².\n",
        "#(I'm using \"liters\" as a measurement for this exercise (1 gal = 3.8 liters approximately)).\n",
        "#(I also used ANSI colors to make it prettier!)\n",
        "\n",
        "print('Wait, why do \\033[1;31mI\\033[0m have to buy ink? The wall is yours!')\n",
        "print('What do you mean by \\033[1;31m\"you owe me\"\\033[0m? I do not remember this!')\n",
        "print('...Argh, ok, fine, I will buy! But first...')\n",
        "w = float(input('What is the width of the damn wall in meters? '))\n",
        "h = float(input('Okay, what about the height? '))\n",
        "ar = w * h\n",
        "print(f'Hmm... The area of your wall is \\033[1;32m{ar:.1f}m²\\033[0m, and 1L of paint, paints 2m². Which means...')\n",
        "p = ar * 0.5\n",
        "print(f'That we will need \\033[1;32m{p:.1f}L\\033[0m of paint to paint your wall. Okay, I am going to buy it, but do not get used to it...')\n"
      ]
    }
  ]
}