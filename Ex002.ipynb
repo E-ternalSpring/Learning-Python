{
  "nbformat": 4,
  "nbformat_minor": 0,
  "metadata": {
    "colab": {
      "name": "Ex002.ipynb",
      "provenance": [],
      "collapsed_sections": [],
      "authorship_tag": "ABX9TyNs+GVvIRJ3J/eCwPn+xK9Q",
      "include_colab_link": true
    },
    "kernelspec": {
      "name": "python3",
      "display_name": "Python 3"
    },
    "language_info": {
      "name": "python"
    }
  },
  "cells": [
    {
      "cell_type": "markdown",
      "metadata": {
        "id": "view-in-github",
        "colab_type": "text"
      },
      "source": [
        "<a href=\"https://colab.research.google.com/github/E-ternalSpring/Learning-Python/blob/main/Ex002.ipynb\" target=\"_parent\"><img src=\"https://colab.research.google.com/assets/colab-badge.svg\" alt=\"Open In Colab\"/></a>"
      ]
    },
    {
      "cell_type": "code",
      "execution_count": 1,
      "metadata": {
        "colab": {
          "base_uri": "https://localhost:8080/"
        },
        "id": "kb7bYzB_y9Lw",
        "outputId": "98285723-02ba-42bf-9dfc-ad367b7375a6"
      },
      "outputs": [
        {
          "output_type": "stream",
          "name": "stdout",
          "text": [
            "What is your name? Emmanuelle\n",
            "Welcome, \u001b[1;34mEmmanuelle\u001b[0m! It is a great pleasure to meet you.\n"
          ]
        }
      ],
      "source": [
        "#Make a program that reads a person's name and displays a welcome message. (I also used ANSI colors to make it prettier!)\n",
        "\n",
        "name = input('What is your name? ')\n",
        "print('Welcome, {}{}{}! It is a great pleasure to meet you.'.format('\\033[1;34m', name, '\\033[0m'))\n"
      ]
    }
  ]
}