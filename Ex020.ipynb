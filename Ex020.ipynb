{
  "nbformat": 4,
  "nbformat_minor": 0,
  "metadata": {
    "colab": {
      "name": "Ex020.ipynb",
      "provenance": [],
      "collapsed_sections": [],
      "authorship_tag": "ABX9TyMZQsnAZ40jDf2zLjvf3Msa",
      "include_colab_link": true
    },
    "kernelspec": {
      "name": "python3",
      "display_name": "Python 3"
    },
    "language_info": {
      "name": "python"
    }
  },
  "cells": [
    {
      "cell_type": "markdown",
      "metadata": {
        "id": "view-in-github",
        "colab_type": "text"
      },
      "source": [
        "<a href=\"https://colab.research.google.com/github/E-ternalSpring/Learning-Python/blob/main/Ex020.ipynb\" target=\"_parent\"><img src=\"https://colab.research.google.com/assets/colab-badge.svg\" alt=\"Open In Colab\"/></a>"
      ]
    },
    {
      "cell_type": "code",
      "execution_count": 1,
      "metadata": {
        "colab": {
          "base_uri": "https://localhost:8080/"
        },
        "id": "f2-k5_rOyfo8",
        "outputId": "1e280613-117c-4c15-fcdc-06464b1a0f43"
      },
      "outputs": [
        {
          "output_type": "stream",
          "name": "stdout",
          "text": [
            "First name: André\n",
            "Second name: João\n",
            "Third name: Luís\n",
            "Fourth name: Caio\n",
            "The order of presentation will be: \u001b[1;34m['João', 'André', 'Caio', 'Luís']\u001b[0m\n"
          ]
        }
      ],
      "source": [
        "#Write a program that reads 4 names and displays them in random order. (ANSI colors to make it prettier.)\n",
        "\n",
        "from random import shuffle\n",
        "n1 = input('First name: ')\n",
        "n2 = input('Second name: ')\n",
        "n3 = input('Third name: ')\n",
        "n4 = input('Fourth name: ')\n",
        "l = [n1, n2, n3, n4]\n",
        "shuffle(l)\n",
        "print(f'The order of presentation will be: \\033[1;34m{l}\\033[0m')\n"
      ]
    }
  ]
}