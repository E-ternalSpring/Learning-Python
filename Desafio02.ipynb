{
  "nbformat": 4,
  "nbformat_minor": 0,
  "metadata": {
    "colab": {
      "provenance": [],
      "authorship_tag": "ABX9TyPwDYYpIg65eig31yPXsYdU",
      "include_colab_link": true
    },
    "kernelspec": {
      "name": "python3",
      "display_name": "Python 3"
    },
    "language_info": {
      "name": "python"
    }
  },
  "cells": [
    {
      "cell_type": "markdown",
      "metadata": {
        "id": "view-in-github",
        "colab_type": "text"
      },
      "source": [
        "<a href=\"https://colab.research.google.com/github/E-ternalSpring/Learning-Python/blob/main/Desafio02.ipynb\" target=\"_parent\"><img src=\"https://colab.research.google.com/assets/colab-badge.svg\" alt=\"Open In Colab\"/></a>"
      ]
    },
    {
      "cell_type": "code",
      "execution_count": 20,
      "metadata": {
        "colab": {
          "base_uri": "https://localhost:8080/"
        },
        "id": "xAs1HMLTqAa4",
        "outputId": "1f0b7e76-0299-42d3-ef2b-052eb7d71189"
      },
      "outputs": [
        {
          "output_type": "stream",
          "name": "stdout",
          "text": [
            "Digite um número: 7\n",
            "O número 7 é primo!\n"
          ]
        }
      ],
      "source": [
        "# Implementar uma solução em Python que determine se um número é ou não primo.\n",
        "\n",
        "def funcprimo(n):\n",
        "    if (n < 2):\n",
        "        return False\n",
        "    i = n // 2\n",
        "    while i > 1:\n",
        "        if n % i == 0:\n",
        "            return False\n",
        "        i -= 1\n",
        "    return True\n",
        "\n",
        "def imprimir_resultado(numero, resultado):\n",
        "    mensagem = f'O número {numero} NÃO é primo!'\n",
        "    if(resultado):\n",
        "        mensagem = f'O número {numero} é primo!'\n",
        "    return mensagem\n",
        "\n",
        "numero = int(input('Digite um número: '))\n",
        "resultado = funcprimo(numero)\n",
        "msg = imprimir_resultado(numero, resultado)\n",
        "print(msg)\n"
      ]
    }
  ]
}