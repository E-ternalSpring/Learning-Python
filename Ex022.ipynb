{
  "nbformat": 4,
  "nbformat_minor": 0,
  "metadata": {
    "colab": {
      "name": "Ex022.ipynb",
      "provenance": [],
      "collapsed_sections": [],
      "authorship_tag": "ABX9TyM8XNhDPnG64hlRQxjrWY4r",
      "include_colab_link": true
    },
    "kernelspec": {
      "name": "python3",
      "display_name": "Python 3"
    },
    "language_info": {
      "name": "python"
    }
  },
  "cells": [
    {
      "cell_type": "markdown",
      "metadata": {
        "id": "view-in-github",
        "colab_type": "text"
      },
      "source": [
        "<a href=\"https://colab.research.google.com/github/E-ternalSpring/Learning-Python/blob/main/Ex022.ipynb\" target=\"_parent\"><img src=\"https://colab.research.google.com/assets/colab-badge.svg\" alt=\"Open In Colab\"/></a>"
      ]
    },
    {
      "cell_type": "code",
      "execution_count": 2,
      "metadata": {
        "colab": {
          "base_uri": "https://localhost:8080/"
        },
        "id": "-zyDKigaNq9Q",
        "outputId": "59fc119c-3af0-41fd-9316-93e363106fe2"
      },
      "outputs": [
        {
          "output_type": "stream",
          "name": "stdout",
          "text": [
            "Say your full name: Emmanuelle Espindola de Carvalho Pinto\n",
            "\u001b[32m...\n",
            "Analyzing your name...\n",
            "...\u001b[0m\n",
            "Your name in \u001b[4muppercase\u001b[0m: EMMANUELLE ESPINDOLA DE CARVALHO PINTO\n",
            "Your name in \u001b[4mlowercase\u001b[0m: emmanuelle espindola de carvalho pinto\n",
            "Your name has a total of \u001b[4m34 letters\u001b[0m...\n",
            "Your first name is \u001b[4mEmmanuelle\u001b[0m, and it has \u001b[4m10 letters\u001b[0m...\n"
          ]
        }
      ],
      "source": [
        "#Create a program that reads a person's full name and displays:\n",
        "#The name in uppercase and lowercase;\n",
        "#How many letters does it have, without considering spaces;\n",
        "#What is the first name and how many letters does it have.\n",
        "#(ANSI colors to make it prettier.)\n",
        "\n",
        "n = str(input('Say your full name: ')).strip()\n",
        "print('\\033[32m...\\nAnalyzing your name...\\n...\\033[0m')\n",
        "print(f'Your name in \\033[4muppercase\\033[0m: {n.upper()}')\n",
        "print(f'Your name in \\033[4mlowercase\\033[0m: {n.lower()}')\n",
        "print(f'Your name has a total of \\033[4m{len(n) - n.count(\" \")} letters\\033[0m...')\n",
        "print(f'Your first name is \\033[4m{n.split()[0]}\\033[0m, and it has \\033[4m{len(n.split()[0])} letters\\033[0m...')\n"
      ]
    }
  ]
}