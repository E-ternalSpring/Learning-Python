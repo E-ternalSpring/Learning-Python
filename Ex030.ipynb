{
  "nbformat": 4,
  "nbformat_minor": 0,
  "metadata": {
    "colab": {
      "name": "Ex030.ipynb",
      "provenance": [],
      "collapsed_sections": [],
      "authorship_tag": "ABX9TyNcxV++xPyYmIjuUVDeVOGR",
      "include_colab_link": true
    },
    "kernelspec": {
      "name": "python3",
      "display_name": "Python 3"
    },
    "language_info": {
      "name": "python"
    }
  },
  "cells": [
    {
      "cell_type": "markdown",
      "metadata": {
        "id": "view-in-github",
        "colab_type": "text"
      },
      "source": [
        "<a href=\"https://colab.research.google.com/github/E-ternalSpring/Learning-Python/blob/main/Ex030.ipynb\" target=\"_parent\"><img src=\"https://colab.research.google.com/assets/colab-badge.svg\" alt=\"Open In Colab\"/></a>"
      ]
    },
    {
      "cell_type": "code",
      "execution_count": 2,
      "metadata": {
        "colab": {
          "base_uri": "https://localhost:8080/"
        },
        "id": "NP7m-2_NIEvq",
        "outputId": "15049fe9-3ccd-408b-903f-4d80a6907ec9"
      },
      "outputs": [
        {
          "output_type": "stream",
          "name": "stdout",
          "text": [
            "Tell me any number: 2\n",
            "Number 2 is \u001b[4;32mEVEN\u001b[0m!\n"
          ]
        }
      ],
      "source": [
        "#Create a program that reads an integer and shows on the screen whether it is odd or even.\n",
        "\n",
        "n = int(input('Tell me any number: '))\n",
        "if n % 2 == 0:\n",
        "    print(f'Number {n} is \\033[4;32mEVEN\\033[0m!')\n",
        "else:\n",
        "    print(f'Number {n} is \\033[4;31mODD\\033[0m!')\n"
      ]
    }
  ]
}