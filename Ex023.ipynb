{
  "nbformat": 4,
  "nbformat_minor": 0,
  "metadata": {
    "colab": {
      "name": "Ex023.ipynb",
      "provenance": [],
      "collapsed_sections": [],
      "authorship_tag": "ABX9TyO09GF6zmNCFuRk0BYAL4ko",
      "include_colab_link": true
    },
    "kernelspec": {
      "name": "python3",
      "display_name": "Python 3"
    },
    "language_info": {
      "name": "python"
    }
  },
  "cells": [
    {
      "cell_type": "markdown",
      "metadata": {
        "id": "view-in-github",
        "colab_type": "text"
      },
      "source": [
        "<a href=\"https://colab.research.google.com/github/E-ternalSpring/Learning-Python/blob/main/Ex023.ipynb\" target=\"_parent\"><img src=\"https://colab.research.google.com/assets/colab-badge.svg\" alt=\"Open In Colab\"/></a>"
      ]
    },
    {
      "cell_type": "code",
      "execution_count": 1,
      "metadata": {
        "colab": {
          "base_uri": "https://localhost:8080/"
        },
        "id": "R-LSLjvzXadU",
        "outputId": "70670398-cb23-4022-a772-b7eb962f6258"
      },
      "outputs": [
        {
          "output_type": "stream",
          "name": "stdout",
          "text": [
            "Enter a number from 1 to 9999: 467\n",
            "\u001b[1m...\n",
            "Analyzing the number 467...\n",
            "...\u001b[0m\n",
            "\u001b[35mUnit:\u001b[0m 7\n",
            "\u001b[34mTen:\u001b[0m 6\n",
            "\u001b[36mHundred:\u001b[0m 4\n",
            "\u001b[97mThousand:\u001b[0m 0\n"
          ]
        }
      ],
      "source": [
        "#Write a program that reads a number from 0 to 9999, and displays its unit, ten, hundred and thousand on the screen.\n",
        "#(ANSI colors to make it prettier.)\n",
        "\n",
        "n = int(input('Enter a number from 1 to 9999: '))\n",
        "u = n // 1 % 10\n",
        "d = n // 10 % 10\n",
        "c = n // 100 % 10\n",
        "m = n // 1000 % 10\n",
        "print(f'\\033[1m...\\nAnalyzing the number {n}...\\n...\\033[0m')\n",
        "print(f'\\033[35mUnit:\\033[0m {u}')\n",
        "print(f'\\033[34mTen:\\033[0m {d}')\n",
        "print(f'\\033[36mHundred:\\033[0m {c}')\n",
        "print(f'\\033[97mThousand:\\033[0m {m}')\n"
      ]
    }
  ]
}