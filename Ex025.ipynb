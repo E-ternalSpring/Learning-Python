{
  "nbformat": 4,
  "nbformat_minor": 0,
  "metadata": {
    "colab": {
      "name": "Ex025.ipynb",
      "provenance": [],
      "collapsed_sections": [],
      "authorship_tag": "ABX9TyOdLU5r+Ce1PblcQoVYhudA",
      "include_colab_link": true
    },
    "kernelspec": {
      "name": "python3",
      "display_name": "Python 3"
    },
    "language_info": {
      "name": "python"
    }
  },
  "cells": [
    {
      "cell_type": "markdown",
      "metadata": {
        "id": "view-in-github",
        "colab_type": "text"
      },
      "source": [
        "<a href=\"https://colab.research.google.com/github/E-ternalSpring/Learning-Python/blob/main/Ex025.ipynb\" target=\"_parent\"><img src=\"https://colab.research.google.com/assets/colab-badge.svg\" alt=\"Open In Colab\"/></a>"
      ]
    },
    {
      "cell_type": "code",
      "execution_count": 2,
      "metadata": {
        "id": "XMsV9al5trQD",
        "colab": {
          "base_uri": "https://localhost:8080/"
        },
        "outputId": "38b41bd2-32d6-45b7-f6d6-44aeded271c2"
      },
      "outputs": [
        {
          "output_type": "stream",
          "name": "stdout",
          "text": [
            "What is your name? Carlos Felipe Pinto Rodrigues da Silva\n",
            "Your name has \"\u001b[4mSilva\u001b[0m\"? True\n"
          ]
        }
      ],
      "source": [
        "#Create a program that reads a person's name and tells if he or she has \"Silva\" in their name.\n",
        "\n",
        "n = str(input('What is your name? ')).strip()\n",
        "n = n.upper()\n",
        "print(f'Your name has \"\\033[4mSilva\\033[0m\"?', 'SILVA' in n)\n"
      ]
    }
  ]
}