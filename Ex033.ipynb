{
  "nbformat": 4,
  "nbformat_minor": 0,
  "metadata": {
    "colab": {
      "name": "Ex033.ipynb",
      "provenance": [],
      "collapsed_sections": [],
      "authorship_tag": "ABX9TyO9aZYSC+MP1PeFhre2Xw9F",
      "include_colab_link": true
    },
    "kernelspec": {
      "name": "python3",
      "display_name": "Python 3"
    },
    "language_info": {
      "name": "python"
    }
  },
  "cells": [
    {
      "cell_type": "markdown",
      "metadata": {
        "id": "view-in-github",
        "colab_type": "text"
      },
      "source": [
        "<a href=\"https://colab.research.google.com/github/E-ternalSpring/Learning-Python/blob/main/Ex033.ipynb\" target=\"_parent\"><img src=\"https://colab.research.google.com/assets/colab-badge.svg\" alt=\"Open In Colab\"/></a>"
      ]
    },
    {
      "cell_type": "code",
      "execution_count": 1,
      "metadata": {
        "id": "oJiLTEDZtmn6",
        "colab": {
          "base_uri": "https://localhost:8080/"
        },
        "outputId": "0c9bc66b-d869-4d7a-ebfc-ee79dfd32f4a"
      },
      "outputs": [
        {
          "output_type": "stream",
          "name": "stdout",
          "text": [
            "First value: 3\n",
            "Second value: 6\n",
            "Third value: 9\n",
            "The highest value entered was: \u001b[1;32m9.0\u001b[0m\n",
            "The lowest value entered was: \u001b[1;34m3.0\u001b[0m\n"
          ]
        }
      ],
      "source": [
        "#Write a program that reads 3 numbers and shows which is the biggest and which is the smallest.\n",
        "#(ANSI colors once more... 'Cause it's cute!)\n",
        "\n",
        "v1 = float(input('First value: '))\n",
        "v2 = float(input('Second value: '))\n",
        "v3 = float(input('Third value: '))\n",
        "ma = v1 if v1 > v2 and v1 > v3 else v2 if v2 > v1 and v2 > v3 else v3\n",
        "me = v1 if v1 < v2 and v1 < v3 else v2 if v2 < v1 and v2 < v3 else v3\n",
        "print(f'The highest value entered was: \\033[1;32m{ma}\\033[0m')\n",
        "print(f'The lowest value entered was: \\033[1;34m{me}\\033[0m')\n"
      ]
    }
  ]
}