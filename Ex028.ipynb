{
  "nbformat": 4,
  "nbformat_minor": 0,
  "metadata": {
    "colab": {
      "name": "Ex028.ipynb",
      "provenance": [],
      "collapsed_sections": [],
      "authorship_tag": "ABX9TyOM3/dswdI6su1EeSRs8dYe",
      "include_colab_link": true
    },
    "kernelspec": {
      "name": "python3",
      "display_name": "Python 3"
    },
    "language_info": {
      "name": "python"
    }
  },
  "cells": [
    {
      "cell_type": "markdown",
      "metadata": {
        "id": "view-in-github",
        "colab_type": "text"
      },
      "source": [
        "<a href=\"https://colab.research.google.com/github/E-ternalSpring/Learning-Python/blob/main/Ex028.ipynb\" target=\"_parent\"><img src=\"https://colab.research.google.com/assets/colab-badge.svg\" alt=\"Open In Colab\"/></a>"
      ]
    },
    {
      "cell_type": "code",
      "execution_count": 61,
      "metadata": {
        "colab": {
          "base_uri": "https://localhost:8080/"
        },
        "id": "OGrax4tngTqk",
        "outputId": "af6500ab-a378-479c-94b7-62d5b15e3c6f"
      },
      "outputs": [
        {
          "output_type": "stream",
          "name": "stdout",
          "text": [
            "\u001b[1;36m-=-\u001b[0m\u001b[1;36m-=-\u001b[0m\u001b[1;36m-=-\u001b[0m\u001b[1;36m-=-\u001b[0m\u001b[1;36m-=-\u001b[0m\u001b[1;36m-=-\u001b[0m\u001b[1;36m-=-\u001b[0m\u001b[1;36m-=-\u001b[0m\u001b[1;36m-=-\u001b[0m\u001b[1;36m-=-\u001b[0m\u001b[1;36m-=-\u001b[0m\u001b[1;36m-=-\u001b[0m\u001b[1;36m-=-\u001b[0m\u001b[1;36m-=-\u001b[0m\u001b[1;36m-=-\u001b[0m\u001b[1;36m-=-\u001b[0m\u001b[1;36m-=-\u001b[0m\u001b[1;36m-=-\u001b[0m\u001b[1;36m-=-\u001b[0m\u001b[1;36m-=-\u001b[0m\u001b[1;36m-=-\u001b[0m\u001b[1;36m-=-\u001b[0m\u001b[1;36m-=-\u001b[0m\u001b[1;36m-=-\u001b[0m\u001b[1;36m-=-\u001b[0m\u001b[1;36m-=-\u001b[0m\u001b[1;36m-=-\u001b[0m\u001b[1;36m-=-\u001b[0m\n",
            "I will think of a number from 1 to 5, try to guess which number I thought of!\n",
            "\u001b[1;36m-=-\u001b[0m\u001b[1;36m-=-\u001b[0m\u001b[1;36m-=-\u001b[0m\u001b[1;36m-=-\u001b[0m\u001b[1;36m-=-\u001b[0m\u001b[1;36m-=-\u001b[0m\u001b[1;36m-=-\u001b[0m\u001b[1;36m-=-\u001b[0m\u001b[1;36m-=-\u001b[0m\u001b[1;36m-=-\u001b[0m\u001b[1;36m-=-\u001b[0m\u001b[1;36m-=-\u001b[0m\u001b[1;36m-=-\u001b[0m\u001b[1;36m-=-\u001b[0m\u001b[1;36m-=-\u001b[0m\u001b[1;36m-=-\u001b[0m\u001b[1;36m-=-\u001b[0m\u001b[1;36m-=-\u001b[0m\u001b[1;36m-=-\u001b[0m\u001b[1;36m-=-\u001b[0m\u001b[1;36m-=-\u001b[0m\u001b[1;36m-=-\u001b[0m\u001b[1;36m-=-\u001b[0m\u001b[1;36m-=-\u001b[0m\u001b[1;36m-=-\u001b[0m\u001b[1;36m-=-\u001b[0m\u001b[1;36m-=-\u001b[0m\u001b[1;36m-=-\u001b[0m\n",
            "\n",
            "PROCESSING...\n",
            "\n",
            "Bip... Bop...\n",
            "\n",
            "What number did I think of? 4\n",
            "\u001b[1;32mCongratulations, you got it right! You are the winner of this round!\u001b[0m\n"
          ]
        }
      ],
      "source": [
        "#Write a program that makes the computer randomize an integer between 1 and 5, and ask the user to guess the randomized number.\n",
        "#The program then, should write on the screen if the user was wrong or right.\n",
        "#(I had a lot of fun in this one, and it kinda was my first \"game\", so I used some extra functions to make it cool.)\n",
        "\n",
        "from random import randint\n",
        "from time import sleep\n",
        "print('\\033[1;36m-=-\\033[0m' * 28)\n",
        "print('I will think of a number from 1 to 5, try to guess which number I thought of!')\n",
        "print('\\033[1;36m-=-\\033[0m' * 28)\n",
        "print('\\nPROCESSING...\\n')\n",
        "sleep(5)\n",
        "print('Bip... Bop...\\n')\n",
        "sleep(3)\n",
        "n = int(input('What number did I think of? '))\n",
        "r = randint(1, 5)\n",
        "if n == r:\n",
        "    print('\\033[1;32mCongratulations, you got it right! You are the winner of this round!\\033[0m')\n",
        "elif n == 1 or n == 2 or n == 3 or n == 4 or n == 5 and n != r:\n",
        "    print(f'\\033[1;31mToo bad, looks like you got it wrong... I thought of number {r}, and you typed number {n}.')\n",
        "    print('Better luck next time. :P\\033[0m')\n",
        "else:\n",
        "    print('\\033[1;33mBEEEEEEP! You must choose a number between 1 and 5! No cheating!\\033[0m')\n"
      ]
    }
  ]
}