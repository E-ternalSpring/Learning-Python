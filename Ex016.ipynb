{
  "nbformat": 4,
  "nbformat_minor": 0,
  "metadata": {
    "colab": {
      "name": "Ex016.ipynb",
      "provenance": [],
      "collapsed_sections": [],
      "authorship_tag": "ABX9TyMs+h9tKiMiPEFuAjeRDWDD",
      "include_colab_link": true
    },
    "kernelspec": {
      "name": "python3",
      "display_name": "Python 3"
    },
    "language_info": {
      "name": "python"
    }
  },
  "cells": [
    {
      "cell_type": "markdown",
      "metadata": {
        "id": "view-in-github",
        "colab_type": "text"
      },
      "source": [
        "<a href=\"https://colab.research.google.com/github/E-ternalSpring/Learning-Python/blob/main/Ex016.ipynb\" target=\"_parent\"><img src=\"https://colab.research.google.com/assets/colab-badge.svg\" alt=\"Open In Colab\"/></a>"
      ]
    },
    {
      "cell_type": "code",
      "execution_count": 2,
      "metadata": {
        "colab": {
          "base_uri": "https://localhost:8080/"
        },
        "id": "sf8FYw7G7VyB",
        "outputId": "543f09ba-2c18-445c-a119-811a635fe66d"
      },
      "outputs": [
        {
          "output_type": "stream",
          "name": "stdout",
          "text": [
            "Please, enter a number: 5.628\n",
            "The number \u001b[1;34m5.628\u001b[0m has its integer part \u001b[1;36m5\u001b[0m.\n"
          ]
        }
      ],
      "source": [
        "#Create a program that reads any real number from the keyboard, and displays its entire portion on the screen.\n",
        "#(ANSI colors to make it prettier.)\n",
        "\n",
        "from math import trunc\n",
        "num = float(input('Please, enter a number: '))\n",
        "print(f'The number \\033[1;34m{num}\\033[0m has its integer part \\033[1;36m{trunc(num)}\\033[0m.')\n"
      ]
    }
  ]
}